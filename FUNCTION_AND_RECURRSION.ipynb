{
  "nbformat": 4,
  "nbformat_minor": 0,
  "metadata": {
    "colab": {
      "provenance": [],
      "authorship_tag": "ABX9TyPFVbALpgRLcu+S66vbZhuP",
      "include_colab_link": true
    },
    "kernelspec": {
      "name": "python3",
      "display_name": "Python 3"
    },
    "language_info": {
      "name": "python"
    }
  },
  "cells": [
    {
      "cell_type": "markdown",
      "metadata": {
        "id": "view-in-github",
        "colab_type": "text"
      },
      "source": [
        "<a href=\"https://colab.research.google.com/github/krishnaprasadlenka/PYTHON_FOUNDATION/blob/main/FUNCTION_AND_RECURRSION.ipynb\" target=\"_parent\"><img src=\"https://colab.research.google.com/assets/colab-badge.svg\" alt=\"Open In Colab\"/></a>"
      ]
    },
    {
      "cell_type": "code",
      "execution_count": null,
      "metadata": {
        "colab": {
          "base_uri": "https://localhost:8080/"
        },
        "id": "k3TuCvF5vHO5",
        "outputId": "4ab09dd6-2662-4714-b762-c2fd30c81d26"
      },
      "outputs": [
        {
          "output_type": "stream",
          "name": "stdout",
          "text": [
            "3\n"
          ]
        }
      ],
      "source": [
        "#FUNTIONS\n",
        "#funtion defination\n",
        "def calc_sum(a, b):#parameters\n",
        "    return a + b\n",
        "sum=calc_sum(1,2)#arguments\n",
        "print(sum)\n"
      ]
    },
    {
      "cell_type": "code",
      "source": [
        "def print_hello():\n",
        "     print(\"hello\")\n",
        "print_hello()\n",
        "print_hello()\n",
        "print_hello()\n",
        "print_hello()\n",
        "print_hello()\n"
      ],
      "metadata": {
        "colab": {
          "base_uri": "https://localhost:8080/"
        },
        "id": "KjDCUHaC6sRR",
        "outputId": "dd872d20-6515-43a7-b693-04e4037cfd81"
      },
      "execution_count": null,
      "outputs": [
        {
          "output_type": "stream",
          "name": "stdout",
          "text": [
            "hello\n",
            "hello\n",
            "hello\n",
            "hello\n",
            "hello\n"
          ]
        }
      ]
    },
    {
      "cell_type": "code",
      "source": [
        "def calc_avg(a,b,c):\n",
        "    sum=a+b+c\n",
        "    avg=sum/3\n",
        "    return avg\n",
        "avg=calc_avg(1,2,3)\n",
        "print(avg)\n",
        "calc_avg(4,5,6)"
      ],
      "metadata": {
        "colab": {
          "base_uri": "https://localhost:8080/"
        },
        "id": "3_f83bLS-pDi",
        "outputId": "cce8ad39-5da8-4d2d-cc60-efe8c714654e"
      },
      "execution_count": null,
      "outputs": [
        {
          "output_type": "stream",
          "name": "stdout",
          "text": [
            "2.0\n"
          ]
        },
        {
          "output_type": "execute_result",
          "data": {
            "text/plain": [
              "5.0"
            ]
          },
          "metadata": {},
          "execution_count": 9
        }
      ]
    },
    {
      "cell_type": "code",
      "source": [
        "print(\"krishna_prasad_lenka\",end=\" \") #for space at the end\n",
        "print(\"krishna_prasad_lenka\",end=\"\\n\")#for bringing into a new line\n",
        "print(\"krishna_prasad_lenka\")"
      ],
      "metadata": {
        "colab": {
          "base_uri": "https://localhost:8080/"
        },
        "id": "E6L5YMcbCWP0",
        "outputId": "ab113d58-652c-480e-fe16-10fbfc7a1789"
      },
      "execution_count": null,
      "outputs": [
        {
          "output_type": "stream",
          "name": "stdout",
          "text": [
            "krishna_prasad_lenka krishna_prasad_lenka\n",
            "krishna_prasad_lenka\n"
          ]
        }
      ]
    },
    {
      "cell_type": "code",
      "source": [
        "#usage of default parameter\n",
        "#by any chance if we have not given any values in function call and we want to run the function then we can give some default values in the parameter\n",
        "def calc_avg(a=1,b=2,c=3):\n",
        "    sum=a+b+c\n",
        "    avg=sum/3\n",
        "    return avg\n",
        "avg=calc_avg()\n",
        "print(avg)"
      ],
      "metadata": {
        "colab": {
          "base_uri": "https://localhost:8080/"
        },
        "id": "4QgZhKruGVNS",
        "outputId": "80cb0bfe-9e84-430f-bfbf-f15013fb7416"
      },
      "execution_count": null,
      "outputs": [
        {
          "output_type": "stream",
          "name": "stdout",
          "text": [
            "2.0\n"
          ]
        }
      ]
    },
    {
      "cell_type": "markdown",
      "source": [
        "Question:-WAF to print the length of a list .(list is parameter)\n"
      ],
      "metadata": {
        "id": "4W4c-fh9N3pf"
      }
    },
    {
      "cell_type": "code",
      "source": [
        "cities=[\"delhi\",\"pune\",\"odisha\",\"roorkee\"]\n",
        "cars=[\"hundai\",\"verna\",\"civic\",\"safari\"]\n",
        "def print_length(list):\n",
        "    print(len(list))\n",
        "print_length(cities)\n",
        "print_length(cars)\n"
      ],
      "metadata": {
        "colab": {
          "base_uri": "https://localhost:8080/"
        },
        "id": "ujxFCCK3NySG",
        "outputId": "a2061cfa-3af3-400f-e3c6-491b02c04d95"
      },
      "execution_count": null,
      "outputs": [
        {
          "output_type": "stream",
          "name": "stdout",
          "text": [
            "4\n",
            "4\n"
          ]
        }
      ]
    },
    {
      "cell_type": "markdown",
      "source": [
        "Question:-WAF to print the elements of a list in a single line"
      ],
      "metadata": {
        "id": "85wL4q1iPZU3"
      }
    },
    {
      "cell_type": "code",
      "source": [
        "cities=[\"delhi\",\"pune\",\"odisha\",\"roorkee\"]\n",
        "cars=[\"hundai\",\"verna\",\"civic\",\"safari\"]\n",
        "\n",
        "def print_list(list):\n",
        "  for item in list:\n",
        "    print(item,end=\" \")\n",
        "print_list(cities)\n",
        "print()\n",
        "print_list(cars)"
      ],
      "metadata": {
        "colab": {
          "base_uri": "https://localhost:8080/"
        },
        "id": "MDq91FVOPhDE",
        "outputId": "7d01977d-db9d-4375-b330-2b39c00e3f09"
      },
      "execution_count": null,
      "outputs": [
        {
          "output_type": "stream",
          "name": "stdout",
          "text": [
            "delhi pune odisha roorkee \n",
            "hundai verna civic safari "
          ]
        }
      ]
    },
    {
      "cell_type": "markdown",
      "source": [
        "Question:-WAF to find factorial of n(n is the parameter)"
      ],
      "metadata": {
        "id": "YvsSm9Z1QvBy"
      }
    },
    {
      "cell_type": "code",
      "source": [
        "def factorial(n):\n",
        "  fact=1\n",
        "  for i in range(1,n+1):\n",
        "    fact=fact*i\n",
        "  return fact\n",
        "print(factorial(5))\n",
        "print(factorial(10))\n",
        "print(factorial(20))\n"
      ],
      "metadata": {
        "colab": {
          "base_uri": "https://localhost:8080/"
        },
        "id": "a8HNt3iKPXMN",
        "outputId": "d74a6bad-a6ae-4963-8eee-e42629f4250f"
      },
      "execution_count": null,
      "outputs": [
        {
          "output_type": "stream",
          "name": "stdout",
          "text": [
            "120\n",
            "3628800\n",
            "2432902008176640000\n"
          ]
        }
      ]
    },
    {
      "cell_type": "markdown",
      "source": [
        "Question:-def convert usd value into inr\n"
      ],
      "metadata": {
        "id": "Kxck6JS1Rmia"
      }
    },
    {
      "cell_type": "code",
      "source": [
        "def converter(usd_value):\n",
        "  inr_value=usd_value*83\n",
        "  return inr_value\n",
        "print(converter(5))\n",
        "print(converter(10))\n",
        "print(converter(20))\n"
      ],
      "metadata": {
        "colab": {
          "base_uri": "https://localhost:8080/"
        },
        "id": "rPza006YSUAL",
        "outputId": "ea9a7ece-e9cc-43b2-ed67-08ecaebecbbf"
      },
      "execution_count": null,
      "outputs": [
        {
          "output_type": "stream",
          "name": "stdout",
          "text": [
            "415\n",
            "830\n",
            "1660\n"
          ]
        }
      ]
    },
    {
      "cell_type": "markdown",
      "source": [
        "**Recursion**"
      ],
      "metadata": {
        "id": "UUWM-yU3qyuE"
      }
    },
    {
      "cell_type": "code",
      "source": [
        "def show(n):\n",
        "  if(n==0):#base case\n",
        "    return\n",
        "  print(n)\n",
        "  show(n-1)\n",
        "show(5)"
      ],
      "metadata": {
        "colab": {
          "base_uri": "https://localhost:8080/"
        },
        "id": "m72Pe9J2q3v5",
        "outputId": "c9e81595-b170-41b3-e700-aa4a6a378642"
      },
      "execution_count": 5,
      "outputs": [
        {
          "output_type": "stream",
          "name": "stdout",
          "text": [
            "5\n",
            "4\n",
            "3\n",
            "2\n",
            "1\n"
          ]
        }
      ]
    },
    {
      "cell_type": "code",
      "source": [
        "def fact(n):\n",
        "  if(n==0 or n==1):\n",
        "    return 1\n",
        "  else:\n",
        "    return n*fact(n-1)\n",
        "print(fact(5))\n",
        "print(fact(10))\n",
        "print(fact(20))"
      ],
      "metadata": {
        "colab": {
          "base_uri": "https://localhost:8080/"
        },
        "id": "W3oj-BhH4fi0",
        "outputId": "0e4c0ce1-3c26-4967-f3eb-f35f6e7714ef"
      },
      "execution_count": 7,
      "outputs": [
        {
          "output_type": "stream",
          "name": "stdout",
          "text": [
            "120\n",
            "3628800\n",
            "2432902008176640000\n"
          ]
        }
      ]
    },
    {
      "cell_type": "markdown",
      "source": [
        "Question:-A recursive funtion to calculate the sum of first n natural numbers"
      ],
      "metadata": {
        "id": "i5YFXd9-7oYI"
      }
    },
    {
      "cell_type": "code",
      "source": [
        "def sum(n):\n",
        "  if (n==0):\n",
        "    return 0\n",
        "  else:\n",
        "    return n+sum(n-1)\n",
        "print(sum(5))\n",
        "print(sum(10))\n",
        "print(sum(20))\n",
        "\n",
        ""
      ],
      "metadata": {
        "colab": {
          "base_uri": "https://localhost:8080/"
        },
        "id": "l6kDwlpS4mdm",
        "outputId": "47c8989a-eaf3-45bb-958f-dff30cb6b149"
      },
      "execution_count": 11,
      "outputs": [
        {
          "output_type": "stream",
          "name": "stdout",
          "text": [
            "15\n",
            "55\n",
            "210\n"
          ]
        }
      ]
    },
    {
      "cell_type": "markdown",
      "source": [
        "Question:-Write a recursive function to print all elements in a list"
      ],
      "metadata": {
        "id": "y37RGD1j96ou"
      }
    },
    {
      "cell_type": "code",
      "source": [
        "def print_list(list,idx):\n",
        "  if(idx==len(list)):\n",
        "    return\n",
        "  print(list[idx])\n",
        "  print_list(list,idx+1)\n",
        "\n",
        "fruits=[\"mango\",\"lichi\",\"apple\",\"banana\"]\n",
        "# Call the function with both arguments, starting the index at 0\n",
        "print_list(fruits, 0)"
      ],
      "metadata": {
        "colab": {
          "base_uri": "https://localhost:8080/"
        },
        "id": "h_u308GB-CyR",
        "outputId": "de311f3f-4903-426b-b0b5-4aa86e4f4957"
      },
      "execution_count": 16,
      "outputs": [
        {
          "output_type": "stream",
          "name": "stdout",
          "text": [
            "mango\n",
            "lichi\n",
            "apple\n",
            "banana\n"
          ]
        }
      ]
    }
  ]
}