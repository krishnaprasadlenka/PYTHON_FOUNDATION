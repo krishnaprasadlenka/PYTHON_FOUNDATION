{
  "nbformat": 4,
  "nbformat_minor": 0,
  "metadata": {
    "colab": {
      "provenance": [],
      "authorship_tag": "ABX9TyPvarBjW0UAFRYi7jS4aRIT",
      "include_colab_link": true
    },
    "kernelspec": {
      "name": "python3",
      "display_name": "Python 3"
    },
    "language_info": {
      "name": "python"
    }
  },
  "cells": [
    {
      "cell_type": "markdown",
      "metadata": {
        "id": "view-in-github",
        "colab_type": "text"
      },
      "source": [
        "<a href=\"https://colab.research.google.com/github/krishnaprasadlenka/PYTHON_FOUNDATION/blob/main/FUNCTION_AND_RECURRSION.ipynb\" target=\"_parent\"><img src=\"https://colab.research.google.com/assets/colab-badge.svg\" alt=\"Open In Colab\"/></a>"
      ]
    },
    {
      "cell_type": "code",
      "execution_count": 2,
      "metadata": {
        "colab": {
          "base_uri": "https://localhost:8080/"
        },
        "id": "k3TuCvF5vHO5",
        "outputId": "4ab09dd6-2662-4714-b762-c2fd30c81d26"
      },
      "outputs": [
        {
          "output_type": "stream",
          "name": "stdout",
          "text": [
            "3\n"
          ]
        }
      ],
      "source": [
        "#FUNTIONS\n",
        "#funtion defination\n",
        "def calc_sum(a, b):#parameters\n",
        "    return a + b\n",
        "sum=calc_sum(1,2)#arguments\n",
        "print(sum)\n"
      ]
    },
    {
      "cell_type": "code",
      "source": [
        "def print_hello():\n",
        "     print(\"hello\")\n",
        "print_hello()\n",
        "print_hello()\n",
        "print_hello()\n",
        "print_hello()\n",
        "print_hello()\n"
      ],
      "metadata": {
        "colab": {
          "base_uri": "https://localhost:8080/"
        },
        "id": "KjDCUHaC6sRR",
        "outputId": "dd872d20-6515-43a7-b693-04e4037cfd81"
      },
      "execution_count": 6,
      "outputs": [
        {
          "output_type": "stream",
          "name": "stdout",
          "text": [
            "hello\n",
            "hello\n",
            "hello\n",
            "hello\n",
            "hello\n"
          ]
        }
      ]
    }
  ]
}