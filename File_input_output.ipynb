{
  "nbformat": 4,
  "nbformat_minor": 0,
  "metadata": {
    "colab": {
      "provenance": [],
      "authorship_tag": "ABX9TyOcEExCnITqtNntHg1RWr01",
      "include_colab_link": true
    },
    "kernelspec": {
      "name": "python3",
      "display_name": "Python 3"
    },
    "language_info": {
      "name": "python"
    }
  },
  "cells": [
    {
      "cell_type": "markdown",
      "metadata": {
        "id": "view-in-github",
        "colab_type": "text"
      },
      "source": [
        "<a href=\"https://colab.research.google.com/github/krishnaprasadlenka/PYTHON_FOUNDATION/blob/main/File_input_output.ipynb\" target=\"_parent\"><img src=\"https://colab.research.google.com/assets/colab-badge.svg\" alt=\"Open In Colab\"/></a>"
      ]
    },
    {
      "cell_type": "code",
      "execution_count": 4,
      "metadata": {
        "colab": {
          "base_uri": "https://localhost:8080/"
        },
        "id": "8iuXSSzwULp1",
        "outputId": "05763524-e850-4a0f-cbee-efe8872877e1"
      },
      "outputs": [
        {
          "output_type": "stream",
          "name": "stdout",
          "text": [
            "Hello, I am krishna !\n",
            "this is my next text file .\n"
          ]
        }
      ],
      "source": [
        "# Create a text file\n",
        "with open(\"my_file.txt\", \"w\") as f:\n",
        "    f.write(\"Hello, I am krishna !\")\n",
        "\n",
        "# Append to the file\n",
        "with open(\"my_file.txt\", \"a\") as f:\n",
        "    f.write(\"\\nthis is my next text file .\")\n",
        "\n",
        "# Read the file\n",
        "with open(\"my_file.txt\", \"r\") as f:\n",
        "    print(f.read())"
      ]
    },
    {
      "cell_type": "markdown",
      "source": [],
      "metadata": {
        "id": "vqN-LzkmUbRf"
      }
    },
    {
      "cell_type": "markdown",
      "source": [
        "reading single lines"
      ],
      "metadata": {
        "id": "aF9uVfXWVPnA"
      }
    },
    {
      "cell_type": "code",
      "source": [
        "with open('my_file.txt', 'r') as file:\n",
        "    line1 = file.readline()\n",
        "    line2 = file.readline()\n",
        "    print(f\"Line 1: {line1.strip()}\")  # .strip() removes leading/trailing whitespace, including \\n\n",
        "    print(f\"Line 2: {line2.strip()}\")"
      ],
      "metadata": {
        "colab": {
          "base_uri": "https://localhost:8080/"
        },
        "id": "UMmQHkfcU5nl",
        "outputId": "b9b32633-29b0-46f8-f56b-4edcdc5dff48"
      },
      "execution_count": 5,
      "outputs": [
        {
          "output_type": "stream",
          "name": "stdout",
          "text": [
            "Line 1: Hello, I am krishna !\n",
            "Line 2: this is my next text file .\n"
          ]
        }
      ]
    },
    {
      "cell_type": "markdown",
      "source": [
        "reading all the lines"
      ],
      "metadata": {
        "id": "-mN0uMspVSSe"
      }
    },
    {
      "cell_type": "code",
      "source": [
        "with open('my_file.txt', 'r') as file:\n",
        "    lines = file.readlines()\n",
        "    for line in lines:\n",
        "        print(line.strip())"
      ],
      "metadata": {
        "colab": {
          "base_uri": "https://localhost:8080/"
        },
        "id": "g8Oq5O_pVNdD",
        "outputId": "838e233a-d0cf-4a09-8178-62497dc80f31"
      },
      "execution_count": 6,
      "outputs": [
        {
          "output_type": "stream",
          "name": "stdout",
          "text": [
            "Hello, I am krishna !\n",
            "this is my next text file .\n"
          ]
        }
      ]
    }
  ]
}