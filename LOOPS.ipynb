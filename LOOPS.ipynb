{
  "nbformat": 4,
  "nbformat_minor": 0,
  "metadata": {
    "colab": {
      "provenance": [],
      "authorship_tag": "ABX9TyOqn0qEEuknIwOa1DbxyL4e",
      "include_colab_link": true
    },
    "kernelspec": {
      "name": "python3",
      "display_name": "Python 3"
    },
    "language_info": {
      "name": "python"
    }
  },
  "cells": [
    {
      "cell_type": "markdown",
      "metadata": {
        "id": "view-in-github",
        "colab_type": "text"
      },
      "source": [
        "<a href=\"https://colab.research.google.com/github/krishnaprasadlenka/PYTHON_FOUNDATION/blob/main/LOOPS.ipynb\" target=\"_parent\"><img src=\"https://colab.research.google.com/assets/colab-badge.svg\" alt=\"Open In Colab\"/></a>"
      ]
    },
    {
      "cell_type": "code",
      "execution_count": 3,
      "metadata": {
        "colab": {
          "base_uri": "https://localhost:8080/"
        },
        "id": "KATjXP8YkLX3",
        "outputId": "0f5903cd-5643-48d8-8db5-50d4a44a5bb0"
      },
      "outputs": [
        {
          "output_type": "stream",
          "name": "stdout",
          "text": [
            "enter ur number11\n",
            "hello world\n",
            "hello world\n",
            "hello world\n",
            "hello world\n",
            "hello world\n",
            "hello world\n",
            "hello world\n",
            "hello world\n",
            "hello world\n",
            "hello world\n",
            "hello world\n"
          ]
        }
      ],
      "source": [
        "#while loop\n",
        "n=int(input(\"enter ur number\"))\n",
        "i=0\n",
        "while(i<n):\n",
        "  print(\"hello world\")\n",
        "  i+=1"
      ]
    },
    {
      "cell_type": "code",
      "source": [
        "n=int(input(\"enter ur number\"))\n",
        "i=0\n",
        "while(i<n):\n",
        "  print(i)\n",
        "  i+=1\n",
        ""
      ],
      "metadata": {
        "colab": {
          "base_uri": "https://localhost:8080/"
        },
        "id": "F_1veYcflWcu",
        "outputId": "4fbcfcf4-7049-41e9-bfbc-806455c46c17"
      },
      "execution_count": 4,
      "outputs": [
        {
          "output_type": "stream",
          "name": "stdout",
          "text": [
            "enter ur number20\n",
            "0\n",
            "1\n",
            "2\n",
            "3\n",
            "4\n",
            "5\n",
            "6\n",
            "7\n",
            "8\n",
            "9\n",
            "10\n",
            "11\n",
            "12\n",
            "13\n",
            "14\n",
            "15\n",
            "16\n",
            "17\n",
            "18\n",
            "19\n"
          ]
        }
      ]
    },
    {
      "cell_type": "code",
      "source": [
        "#for loop\n",
        "name=input(\"enter ur name\")\n",
        "for i in name:\n",
        "  print(i)"
      ],
      "metadata": {
        "colab": {
          "base_uri": "https://localhost:8080/"
        },
        "id": "Y22RMu9lmsw_",
        "outputId": "140b15bd-8122-4434-93ef-8b20a47aa659"
      },
      "execution_count": 5,
      "outputs": [
        {
          "output_type": "stream",
          "name": "stdout",
          "text": [
            "enter ur namekrishna \n",
            "k\n",
            "r\n",
            "i\n",
            "s\n",
            "h\n",
            "n\n",
            "a\n",
            " \n"
          ]
        }
      ]
    },
    {
      "cell_type": "code",
      "source": [
        "#iterating through list\n",
        "fruits=[\"mango\",\"banana\",\"orange\",\"apple\"]\n",
        "for i in fruits:\n",
        "  print(i)"
      ],
      "metadata": {
        "colab": {
          "base_uri": "https://localhost:8080/"
        },
        "id": "EEaj41uam3yb",
        "outputId": "f8455227-98b6-4410-be38-abc7de5eb3b3"
      },
      "execution_count": 6,
      "outputs": [
        {
          "output_type": "stream",
          "name": "stdout",
          "text": [
            "mango\n",
            "banana\n",
            "orange\n",
            "apple\n"
          ]
        }
      ]
    },
    {
      "cell_type": "code",
      "source": [
        "#iterating through a string\n",
        "message = \"krishna\"\n",
        "for char in message:\n",
        "    print(char)"
      ],
      "metadata": {
        "colab": {
          "base_uri": "https://localhost:8080/"
        },
        "id": "x9yRkgESnXhL",
        "outputId": "53bc25df-7641-482e-b7c4-bf7ca8685df6"
      },
      "execution_count": 7,
      "outputs": [
        {
          "output_type": "stream",
          "name": "stdout",
          "text": [
            "k\n",
            "r\n",
            "i\n",
            "s\n",
            "h\n",
            "n\n",
            "a\n"
          ]
        }
      ]
    },
    {
      "cell_type": "code",
      "source": [
        "#iterating with index using enumerate()\n",
        "fruits = [\"apple\", \"banana\", \"cherry\"]\n",
        "for index, fruit in enumerate(fruits):\n",
        "    print(f\"Index: {index}, Fruit: {fruit}\")"
      ],
      "metadata": {
        "colab": {
          "base_uri": "https://localhost:8080/"
        },
        "id": "TIxZa_C8nmp2",
        "outputId": "359e2c93-c7c6-4c09-b171-8be37433b840"
      },
      "execution_count": 8,
      "outputs": [
        {
          "output_type": "stream",
          "name": "stdout",
          "text": [
            "Index: 0, Fruit: apple\n",
            "Index: 1, Fruit: banana\n",
            "Index: 2, Fruit: cherry\n"
          ]
        }
      ]
    },
    {
      "cell_type": "code",
      "source": [
        "#specifying starting index\n",
        "fruits = [\"apple\", \"banana\", \"cherry\"]\n",
        "for index, fruit in enumerate(fruits, start=1):\n",
        "    print(f\"Index: {index}, Fruit: {fruit}\")"
      ],
      "metadata": {
        "colab": {
          "base_uri": "https://localhost:8080/"
        },
        "id": "gaaFv5S3nzF1",
        "outputId": "01aba403-979a-4b21-e5cf-f1d02b3de64d"
      },
      "execution_count": 9,
      "outputs": [
        {
          "output_type": "stream",
          "name": "stdout",
          "text": [
            "Index: 1, Fruit: apple\n",
            "Index: 2, Fruit: banana\n",
            "Index: 3, Fruit: cherry\n"
          ]
        }
      ]
    },
    {
      "cell_type": "code",
      "source": [
        "#iterating over dictionaries\n",
        "person = {\"name\": \"krishna\", \"age\": 20, \"city\": \"bangalore\"}\n",
        "for key, value in person.items():\n",
        "    print(f\"{key}: {value}\")"
      ],
      "metadata": {
        "colab": {
          "base_uri": "https://localhost:8080/"
        },
        "id": "aeCUdWCin7T-",
        "outputId": "d125802b-6227-45f9-9863-cf4a679c6710"
      },
      "execution_count": 10,
      "outputs": [
        {
          "output_type": "stream",
          "name": "stdout",
          "text": [
            "name: krishna\n",
            "age: 20\n",
            "city: bangalore\n"
          ]
        }
      ]
    },
    {
      "cell_type": "code",
      "source": [
        "#iterating over sets\n",
        "numbers = {1, 2, 3, 4, 5}\n",
        "for num in numbers:\n",
        "    print(num)"
      ],
      "metadata": {
        "colab": {
          "base_uri": "https://localhost:8080/"
        },
        "id": "h31ymJjYoCP7",
        "outputId": "a91d1e90-9ad9-42cc-c7cb-437d47e3ee7d"
      },
      "execution_count": 12,
      "outputs": [
        {
          "output_type": "stream",
          "name": "stdout",
          "text": [
            "1\n",
            "2\n",
            "3\n",
            "4\n",
            "5\n"
          ]
        }
      ]
    },
    {
      "cell_type": "markdown",
      "source": [
        "NESTED FOR LOOPS"
      ],
      "metadata": {
        "id": "YUuOXaAUoVtS"
      }
    },
    {
      "cell_type": "code",
      "source": [
        "list_of_lists = [[1, 2], [3, 4], [5, 6]]\n",
        "for inner_list in list_of_lists:\n",
        "    for number in inner_list:\n",
        "        print(number)"
      ],
      "metadata": {
        "colab": {
          "base_uri": "https://localhost:8080/"
        },
        "id": "LXGzYP_KoQ_z",
        "outputId": "55a24433-a0a3-4312-eb9f-4dc48810287c"
      },
      "execution_count": 13,
      "outputs": [
        {
          "output_type": "stream",
          "name": "stdout",
          "text": [
            "1\n",
            "2\n",
            "3\n",
            "4\n",
            "5\n",
            "6\n"
          ]
        }
      ]
    },
    {
      "cell_type": "markdown",
      "source": [
        "BREAK STATEMENT"
      ],
      "metadata": {
        "id": "QvS9hhyjowOq"
      }
    },
    {
      "cell_type": "code",
      "source": [
        "#USING BREAK IN FOR LOOP\n",
        "numbers = [1, 5, 2, 8, 3, 9, 4]\n",
        "target = 8\n",
        "\n",
        "for number in numbers:\n",
        "    print(f\"Checking: {number}\")\n",
        "    if number == target:\n",
        "        print(f\"Found the target: {target}!\")\n",
        "        break  # Exit the loop immediately\n",
        "    else:\n",
        "        print(f\"{number} is not the target.\")\n",
        "\n",
        "print(\"Search complete.\")"
      ],
      "metadata": {
        "colab": {
          "base_uri": "https://localhost:8080/"
        },
        "id": "H-oB-skiozF7",
        "outputId": "9b2201d8-ab21-4f9b-92eb-2d50106ae5d0"
      },
      "execution_count": 14,
      "outputs": [
        {
          "output_type": "stream",
          "name": "stdout",
          "text": [
            "Checking: 1\n",
            "1 is not the target.\n",
            "Checking: 5\n",
            "5 is not the target.\n",
            "Checking: 2\n",
            "2 is not the target.\n",
            "Checking: 8\n",
            "Found the target: 8!\n",
            "Search complete.\n"
          ]
        }
      ]
    },
    {
      "cell_type": "markdown",
      "source": [],
      "metadata": {
        "id": "jnCq9qjlpMo4"
      }
    },
    {
      "cell_type": "code",
      "source": [
        "#BREAK STATEMENT USING WHILE LOOP\n",
        "count = 0\n",
        "while True:  # This loop would run indefinitely without a break\n",
        "    print(f\"Current count: {count}\")\n",
        "    count += 1\n",
        "    if count > 5:\n",
        "        print(\"Count exceeded 5, breaking the loop.\")\n",
        "        break  # Exit the while loop"
      ],
      "metadata": {
        "colab": {
          "base_uri": "https://localhost:8080/"
        },
        "id": "CgUiON0ipPm8",
        "outputId": "4834c4ed-3ac2-49de-a7d1-8fbe49530a23"
      },
      "execution_count": 15,
      "outputs": [
        {
          "output_type": "stream",
          "name": "stdout",
          "text": [
            "Current count: 0\n",
            "Current count: 1\n",
            "Current count: 2\n",
            "Current count: 3\n",
            "Current count: 4\n",
            "Current count: 5\n",
            "Count exceeded 5, breaking the loop.\n"
          ]
        }
      ]
    },
    {
      "cell_type": "code",
      "source": [
        "#CONTINUE STATEMENT\n",
        "numbers = [1, 2, 3, 4, 5]\n",
        "for num in numbers:\n",
        "    if num == 3:\n",
        "        print(\"Skipping 3.\")\n",
        "        continue\n",
        "    print(f\"Processing: {num}\")\n",
        "print(\"Loop finished.\")"
      ],
      "metadata": {
        "colab": {
          "base_uri": "https://localhost:8080/"
        },
        "id": "3FueQM_ksh9q",
        "outputId": "eee31244-0ddb-4257-b3e1-d2078ad1efcf"
      },
      "execution_count": 16,
      "outputs": [
        {
          "output_type": "stream",
          "name": "stdout",
          "text": [
            "Processing: 1\n",
            "Processing: 2\n",
            "Skipping 3.\n",
            "Processing: 4\n",
            "Processing: 5\n",
            "Loop finished.\n"
          ]
        }
      ]
    }
  ]
}