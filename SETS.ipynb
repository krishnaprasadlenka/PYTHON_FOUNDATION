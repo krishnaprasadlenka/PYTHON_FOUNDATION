{
  "nbformat": 4,
  "nbformat_minor": 0,
  "metadata": {
    "colab": {
      "provenance": [],
      "authorship_tag": "ABX9TyPyFGkn8Ic9uf/yfDKjmKrf",
      "include_colab_link": true
    },
    "kernelspec": {
      "name": "python3",
      "display_name": "Python 3"
    },
    "language_info": {
      "name": "python"
    }
  },
  "cells": [
    {
      "cell_type": "markdown",
      "metadata": {
        "id": "view-in-github",
        "colab_type": "text"
      },
      "source": [
        "<a href=\"https://colab.research.google.com/github/krishnaprasadlenka/PYTHON_FOUNDATION/blob/main/SETS.ipynb\" target=\"_parent\"><img src=\"https://colab.research.google.com/assets/colab-badge.svg\" alt=\"Open In Colab\"/></a>"
      ]
    },
    {
      "cell_type": "markdown",
      "source": [
        "SETS BASICS"
      ],
      "metadata": {
        "id": "wAZ8cQS1bspq"
      }
    },
    {
      "cell_type": "markdown",
      "source": [
        "**Uniqueness**: Sets only store unique elements. sets of duplicate values are\n",
        "automatically removed.\n",
        "**Unordered**: Elements in a set have no specific order. You cannot access elements by index.\n",
        "**Mutable**: Sets are mutable, meaning you can add or remove elements after they are created.\n",
        "**Iterable**: You can iterate through the elements of a set using loops.\n",
        "**Mathematical Set Operations**: Sets efficiently support common mathematical set operations like union, intersection, difference, and symmetric difference."
      ],
      "metadata": {
        "id": "i9fw1GEGb6Pv"
      }
    },
    {
      "cell_type": "code",
      "execution_count": 1,
      "metadata": {
        "colab": {
          "base_uri": "https://localhost:8080/"
        },
        "id": "lJm8PUuQbkuc",
        "outputId": "1af99bcd-60a9-40e1-a803-fc6b28559c2b"
      },
      "outputs": [
        {
          "output_type": "stream",
          "name": "stdout",
          "text": [
            "{1, 2, 3, 4, 5}\n",
            "{1, 2, 3}\n"
          ]
        }
      ],
      "source": [
        "#creating a set\n",
        "my_set = {1, 2, 3, 4, 5}\n",
        "print(my_set)  # Output: {1, 2, 3, 4, 5}\n",
        "\n",
        "# Note that duplicates are automatically removed\n",
        "another_set = {1, 2, 2, 3, 3, 3}\n",
        "print(another_set)  # Output: {1, 2, 3}"
      ]
    },
    {
      "cell_type": "markdown",
      "source": [],
      "metadata": {
        "id": "1Rs94lc7bqfZ"
      }
    },
    {
      "cell_type": "code",
      "source": [
        "#CREATING A SET USING set() constructor"
      ],
      "metadata": {
        "id": "lmBG0bGBdvKw"
      },
      "execution_count": null,
      "outputs": []
    },
    {
      "cell_type": "code",
      "source": [
        "my_list = [10, 20, 20, 30, 40]\n",
        "my_set_from_list = set(my_list)\n",
        "print(my_set_from_list)  # Output: {40, 10, 20, 30} (order may vary)\n",
        "\n",
        "my_tuple = (1, 2, 3, 2, 1)\n",
        "my_set_from_tuple = set(my_tuple)\n",
        "print(my_set_from_tuple)  # Output: {1, 2, 3}\n",
        "\n",
        "my_string = \"hello\"\n",
        "my_set_from_string = set(my_string)\n",
        "print(my_set_from_string)  # Output: {'l', 'o', 'e', 'h'} (order may vary)\n",
        "\n",
        "# To create an empty set, you MUST use the set() constructor\n",
        "empty_set = set()\n",
        "print(empty_set)  # Output: set()\n",
        "# Note: {} creates an empty dictionary, not an empty set."
      ],
      "metadata": {
        "colab": {
          "base_uri": "https://localhost:8080/"
        },
        "id": "6OrYN5L8d42W",
        "outputId": "564cefa1-95ca-4c7e-dee4-86e24d5d831b"
      },
      "execution_count": 2,
      "outputs": [
        {
          "output_type": "stream",
          "name": "stdout",
          "text": [
            "{40, 10, 20, 30}\n",
            "{1, 2, 3}\n",
            "{'o', 'h', 'l', 'e'}\n",
            "set()\n"
          ]
        }
      ]
    },
    {
      "cell_type": "markdown",
      "source": [
        "**add(element)**: --Puts a single new item into the set.\n",
        "**update(iterable)**: Adds multiple items from a list or other collection into the set.\n",
        "**remove(element)**:- Takes out a specific item from the set; will cause an error if the item isn't there.\n",
        "**discard(element)**:-Takes out a specific item from the set if it's there, but doesn't complain if it's not.\n",
        "**pop()**:- Takes out and gives you back an arbitrary item from the set (you don't know which one).\n",
        "**clear()**:- Empties the entire set, leaving it with nothing inside.\n",
        "**copy()**: Makes an exact duplicate of the set.\n",
        "**union(others)**:- Combines the set with other sets and gives you a new set containing all unique items from all of them.\n",
        "**intersection(o)**:- Finds the items that are present in the set AND in all the other sets you mention, giving you a new set with only those common items.\n",
        "**difference()**:- Finds the items that are in the set but NOT in the other sets you mention, giving you a new set with those unique items.\n",
        "**symmetric_difference(other)**:- Finds the items that are in the set OR in the other set, but NOT in both, giving you a new set with those exclusive items.\n",
        "**update(others)**:- Adds all the items from other sets directly into the original set.\n",
        "**intersection_update(others)**:- Keeps only the items that are present in the original set AND in all the other sets you mention, changing the original set.\n",
        "**difference_update(others) **:   Removes any items from the original set that are also found in the other sets you mention, changing the original set.\n",
        "**symmetric_difference_update(other)**: Keeps only the items that are in the original set OR in the other set, but NOT in both, changing the original set.\n",
        "**issubset(other):** Checks if all items in the set are also present in another set.\n",
        "**issuperset(other):** Checks if the set contains all items from another set.\n",
        "**isdisjoint(other):** Checks if the set has no items in common with another set"
      ],
      "metadata": {
        "id": "soR5u8fpeCbX"
      }
    },
    {
      "cell_type": "code",
      "source": [
        "# Imagine you have two groups of friends who like different fruits.\n",
        "\n",
        "# Group A's favorite fruits\n",
        "group_a_likes = {\"apple\", \"banana\", \"orange\", \"grape\"}\n",
        "print(f\"Group A likes: {group_a_likes}\")\n",
        "\n",
        "\n",
        "\n",
        "# Group B's favorite fruits\n",
        "group_b_likes = {\"banana\", \"mango\", \"grape\", \"watermelon\"}\n",
        "print(f\"Group B likes: {group_b_likes}\\n\")\n",
        "\n",
        "\n",
        "\n",
        "# Let's find out which fruits BOTH groups like (intersection)\n",
        "common_fruits = group_a_likes.intersection(group_b_likes)\n",
        "print(f\"Fruits liked by BOTH groups: {common_fruits}\")\n",
        "\n",
        "\n",
        "\n",
        "# Let's find out all the UNIQUE fruits liked by EITHER group (union)\n",
        "all_liked_fruits = group_a_likes.union(group_b_likes)\n",
        "print(f\"All unique fruits liked by either group: {all_liked_fruits}\")\n",
        "\n",
        "\n",
        "\n",
        "# Let's find out which fruits Group A likes but Group B doesn't (difference)\n",
        "a_but_not_b = group_a_likes.difference(group_b_likes)\n",
        "print(f\"Fruits Group A likes but Group B doesn't: {a_but_not_b}\")\n",
        "\n",
        "\n",
        "\n",
        "# Let's find out which fruits Group B likes but Group A doesn't (difference)\n",
        "b_but_not_a = group_b_likes.difference(group_a_likes)\n",
        "print(f\"Fruits Group B likes but Group A doesn't: {b_but_not_a}\\n\")\n",
        "\n",
        "\n",
        "\n",
        "# Let's see if \"apple\" is a favorite of Group A\n",
        "likes_apple = \"apple\" in group_a_likes\n",
        "print(f\"Does Group A like apples? {likes_apple}\")\n",
        "\n",
        "\n",
        "\n",
        "# Let's try to add a new fruit to Group A's favorites\n",
        "group_a_likes.add(\"kiwi\")\n",
        "print(f\"Group A's favorites after adding kiwi: {group_a_likes}\")\n",
        "\n",
        "\n",
        "\n",
        "# Let's try to add a fruit that's already there (it won't be added again)\n",
        "group_a_likes.add(\"banana\")\n",
        "print(f\"Group A's favorites after adding banana again: {group_a_likes}\")"
      ],
      "metadata": {
        "id": "mP2q7U-fffcj"
      },
      "execution_count": null,
      "outputs": []
    }
  ]
}